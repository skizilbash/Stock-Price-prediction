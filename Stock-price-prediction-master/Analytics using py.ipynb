{
 "cells": [
  {
   "cell_type": "markdown",
   "metadata": {},
   "source": [
    "# ML Model to predict Stock price"
   ]
  },
  {
   "cell_type": "markdown",
   "metadata": {},
   "source": [
    "Recurrent Neural Networks are the state of the art algorithm for sequential data and among others used by Apples Siri and Googles Voice Search. This is because it is the first algorithm that remembers its input, due to an internal memory, which makes it perfectly suited for Machine Learning problems that involve sequential data. It is one of the algorithms behind the scenes of the amazing achievements of Deep Learning in the past few years."
   ]
  },
  {
   "cell_type": "markdown",
   "metadata": {},
   "source": [
    "### Task 1 - Data pre-processing"
   ]
  },
  {
   "cell_type": "code",
   "execution_count": 1,
   "metadata": {},
   "outputs": [],
   "source": [
    "# Importing the libraries\n",
    "import numpy as np\n",
    "import matplotlib.pyplot as plt\n",
    "import pandas as pd"
   ]
  },
  {
   "cell_type": "code",
   "execution_count": 3,
   "metadata": {},
   "outputs": [
    {
     "data": {
      "text/html": [
       "<div>\n",
       "<style scoped>\n",
       "    .dataframe tbody tr th:only-of-type {\n",
       "        vertical-align: middle;\n",
       "    }\n",
       "\n",
       "    .dataframe tbody tr th {\n",
       "        vertical-align: top;\n",
       "    }\n",
       "\n",
       "    .dataframe thead th {\n",
       "        text-align: right;\n",
       "    }\n",
       "</style>\n",
       "<table border=\"1\" class=\"dataframe\">\n",
       "  <thead>\n",
       "    <tr style=\"text-align: right;\">\n",
       "      <th></th>\n",
       "      <th>Date</th>\n",
       "      <th>Open</th>\n",
       "      <th>High</th>\n",
       "      <th>Low</th>\n",
       "      <th>Close</th>\n",
       "      <th>Volume</th>\n",
       "    </tr>\n",
       "  </thead>\n",
       "  <tbody>\n",
       "    <tr>\n",
       "      <th>0</th>\n",
       "      <td>1/3/2012</td>\n",
       "      <td>325.25</td>\n",
       "      <td>332.83</td>\n",
       "      <td>324.97</td>\n",
       "      <td>663.59</td>\n",
       "      <td>7,380,500</td>\n",
       "    </tr>\n",
       "    <tr>\n",
       "      <th>1</th>\n",
       "      <td>1/4/2012</td>\n",
       "      <td>331.27</td>\n",
       "      <td>333.87</td>\n",
       "      <td>329.08</td>\n",
       "      <td>666.45</td>\n",
       "      <td>5,749,400</td>\n",
       "    </tr>\n",
       "    <tr>\n",
       "      <th>2</th>\n",
       "      <td>1/5/2012</td>\n",
       "      <td>329.83</td>\n",
       "      <td>330.75</td>\n",
       "      <td>326.89</td>\n",
       "      <td>657.21</td>\n",
       "      <td>6,590,300</td>\n",
       "    </tr>\n",
       "    <tr>\n",
       "      <th>3</th>\n",
       "      <td>1/6/2012</td>\n",
       "      <td>328.34</td>\n",
       "      <td>328.77</td>\n",
       "      <td>323.68</td>\n",
       "      <td>648.24</td>\n",
       "      <td>5,405,900</td>\n",
       "    </tr>\n",
       "    <tr>\n",
       "      <th>4</th>\n",
       "      <td>1/9/2012</td>\n",
       "      <td>322.04</td>\n",
       "      <td>322.29</td>\n",
       "      <td>309.46</td>\n",
       "      <td>620.76</td>\n",
       "      <td>11,688,800</td>\n",
       "    </tr>\n",
       "  </tbody>\n",
       "</table>\n",
       "</div>"
      ],
      "text/plain": [
       "       Date    Open    High     Low   Close      Volume\n",
       "0  1/3/2012  325.25  332.83  324.97  663.59   7,380,500\n",
       "1  1/4/2012  331.27  333.87  329.08  666.45   5,749,400\n",
       "2  1/5/2012  329.83  330.75  326.89  657.21   6,590,300\n",
       "3  1/6/2012  328.34  328.77  323.68  648.24   5,405,900\n",
       "4  1/9/2012  322.04  322.29  309.46  620.76  11,688,800"
      ]
     },
     "execution_count": 3,
     "metadata": {},
     "output_type": "execute_result"
    }
   ],
   "source": [
    "# Importing the training set\n",
    "dataset_train = pd.read_csv('Google_Stock_Price_Train.csv')\n",
    "dataset_train.head()"
   ]
  },
  {
   "cell_type": "code",
   "execution_count": 4,
   "metadata": {},
   "outputs": [
    {
     "data": {
      "text/plain": [
       "array([[325.25],\n",
       "       [331.27],\n",
       "       [329.83],\n",
       "       ...,\n",
       "       [793.7 ],\n",
       "       [783.33],\n",
       "       [782.75]])"
      ]
     },
     "execution_count": 4,
     "metadata": {},
     "output_type": "execute_result"
    }
   ],
   "source": [
    "# pick only open price of stock\n",
    "training_set = dataset_train.iloc[:, 1:2].values\n",
    "training_set"
   ]
  },
  {
   "cell_type": "code",
   "execution_count": 6,
   "metadata": {},
   "outputs": [
    {
     "data": {
      "text/plain": [
       "array([[0.08581368],\n",
       "       [0.09701243],\n",
       "       [0.09433366],\n",
       "       ...,\n",
       "       [0.95725128],\n",
       "       [0.93796041],\n",
       "       [0.93688146]])"
      ]
     },
     "execution_count": 6,
     "metadata": {},
     "output_type": "execute_result"
    }
   ],
   "source": [
    "# Feature Scaling\n",
    "from sklearn.preprocessing import MinMaxScaler\n",
    "sc = MinMaxScaler(feature_range = (0, 1))\n",
    "training_set_scaled = sc.fit_transform(training_set)\n",
    "training_set_scaled"
   ]
  },
  {
   "cell_type": "code",
   "execution_count": 7,
   "metadata": {},
   "outputs": [
    {
     "name": "stdout",
     "output_type": "stream",
     "text": [
      "[[0.08581368 0.09701243 0.09433366 ... 0.07846566 0.08034452 0.08497656]\n",
      " [0.09701243 0.09433366 0.09156187 ... 0.08034452 0.08497656 0.08627874]\n",
      " [0.09433366 0.09156187 0.07984225 ... 0.08497656 0.08627874 0.08471612]\n",
      " ...\n",
      " [0.92106928 0.92438053 0.93048218 ... 0.95475854 0.95204256 0.95163331]\n",
      " [0.92438053 0.93048218 0.9299055  ... 0.95204256 0.95163331 0.95725128]\n",
      " [0.93048218 0.9299055  0.93113327 ... 0.95163331 0.95725128 0.93796041]]\n",
      "[0.08627874 0.08471612 0.07454052 ... 0.95725128 0.93796041 0.93688146]\n"
     ]
    }
   ],
   "source": [
    "# Creating a data structure with 60 timesteps and 1 output\n",
    "X_train = []\n",
    "y_train = []\n",
    "for i in range(60, len(training_set_scaled)):\n",
    "    X_train.append(training_set_scaled[i-60:i, 0])\n",
    "    y_train.append(training_set_scaled[i, 0])\n",
    "X_train, y_train = np.array(X_train), np.array(y_train)\n",
    "print(X_train)\n",
    "print(y_train)"
   ]
  },
  {
   "cell_type": "code",
   "execution_count": 8,
   "metadata": {},
   "outputs": [
    {
     "data": {
      "text/plain": [
       "array([[[0.08581368],\n",
       "        [0.09701243],\n",
       "        [0.09433366],\n",
       "        ...,\n",
       "        [0.07846566],\n",
       "        [0.08034452],\n",
       "        [0.08497656]],\n",
       "\n",
       "       [[0.09701243],\n",
       "        [0.09433366],\n",
       "        [0.09156187],\n",
       "        ...,\n",
       "        [0.08034452],\n",
       "        [0.08497656],\n",
       "        [0.08627874]],\n",
       "\n",
       "       [[0.09433366],\n",
       "        [0.09156187],\n",
       "        [0.07984225],\n",
       "        ...,\n",
       "        [0.08497656],\n",
       "        [0.08627874],\n",
       "        [0.08471612]],\n",
       "\n",
       "       ...,\n",
       "\n",
       "       [[0.92106928],\n",
       "        [0.92438053],\n",
       "        [0.93048218],\n",
       "        ...,\n",
       "        [0.95475854],\n",
       "        [0.95204256],\n",
       "        [0.95163331]],\n",
       "\n",
       "       [[0.92438053],\n",
       "        [0.93048218],\n",
       "        [0.9299055 ],\n",
       "        ...,\n",
       "        [0.95204256],\n",
       "        [0.95163331],\n",
       "        [0.95725128]],\n",
       "\n",
       "       [[0.93048218],\n",
       "        [0.9299055 ],\n",
       "        [0.93113327],\n",
       "        ...,\n",
       "        [0.95163331],\n",
       "        [0.95725128],\n",
       "        [0.93796041]]])"
      ]
     },
     "execution_count": 8,
     "metadata": {},
     "output_type": "execute_result"
    }
   ],
   "source": [
    "# Reshaping - Transform dataset into format required by RNN model \"3D tensor with shape (batch_size, timesteps, input_dim)\"\n",
    "X_train = np.reshape(X_train, (X_train.shape[0], X_train.shape[1], 1))\n",
    "X_train"
   ]
  },
  {
   "cell_type": "markdown",
   "metadata": {},
   "source": [
    "### Task 2 - Building the RNN Model"
   ]
  },
  {
   "cell_type": "code",
   "execution_count": 9,
   "metadata": {},
   "outputs": [],
   "source": [
    "# Importing the Keras libraries and packages\n",
    "from tensorflow.keras.models import Sequential\n",
    "from tensorflow.keras.layers import Dense\n",
    "from tensorflow.keras.layers import LSTM\n",
    "from tensorflow.keras.layers import Dropout"
   ]
  },
  {
   "cell_type": "code",
   "execution_count": 10,
   "metadata": {},
   "outputs": [],
   "source": [
    "# Initialising the RNN\n",
    "regressor = Sequential()\n",
    "\n",
    "# Adding the first LSTM layer and some Dropout regularisation (i.e drop in-active neurons)\n",
    "regressor.add(LSTM(units = 50, return_sequences = True, input_shape = (X_train.shape[1], 1)))\n",
    "regressor.add(Dropout(0.2))\n",
    "\n",
    "# Adding a second LSTM layer and some Dropout regularisation\n",
    "regressor.add(LSTM(units = 50, return_sequences = True))\n",
    "regressor.add(Dropout(0.2))\n",
    "\n",
    "# Adding a third LSTM layer and some Dropout regularisation\n",
    "regressor.add(LSTM(units = 50, return_sequences = True))\n",
    "regressor.add(Dropout(0.2))\n",
    "\n",
    "# Adding a fourth LSTM layer and some Dropout regularisation\n",
    "regressor.add(LSTM(units = 50))\n",
    "regressor.add(Dropout(0.2))\n",
    "\n",
    "# Adding the output layer\n",
    "regressor.add(Dense(units = 1))\n",
    "\n",
    "# Compiling the RNN\n",
    "regressor.compile(optimizer = 'adam', loss = 'mean_squared_error')"
   ]
  },
  {
   "cell_type": "code",
   "execution_count": 11,
   "metadata": {},
   "outputs": [
    {
     "name": "stdout",
     "output_type": "stream",
     "text": [
      "Train on 1198 samples\n",
      "Epoch 1/100\n",
      "1198/1198 [==============================] - 20s 17ms/sample - loss: 0.0366\n",
      "Epoch 2/100\n",
      "1198/1198 [==============================] - 8s 7ms/sample - loss: 0.0063\n",
      "Epoch 3/100\n",
      "1198/1198 [==============================] - 8s 7ms/sample - loss: 0.0056\n",
      "Epoch 4/100\n",
      "1198/1198 [==============================] - 9s 7ms/sample - loss: 0.0064\n",
      "Epoch 5/100\n",
      "1198/1198 [==============================] - 8s 7ms/sample - loss: 0.0068\n",
      "Epoch 6/100\n",
      "1198/1198 [==============================] - 8s 7ms/sample - loss: 0.0046\n",
      "Epoch 7/100\n",
      "1198/1198 [==============================] - 8s 7ms/sample - loss: 0.0046\n",
      "Epoch 8/100\n",
      "1198/1198 [==============================] - 8s 7ms/sample - loss: 0.0043\n",
      "Epoch 9/100\n",
      "1198/1198 [==============================] - 8s 7ms/sample - loss: 0.0043\n",
      "Epoch 10/100\n",
      "1198/1198 [==============================] - 8s 7ms/sample - loss: 0.0041\n",
      "Epoch 11/100\n",
      "1198/1198 [==============================] - 8s 7ms/sample - loss: 0.0037\n",
      "Epoch 12/100\n",
      "1198/1198 [==============================] - 8s 7ms/sample - loss: 0.0040\n",
      "Epoch 13/100\n",
      "1198/1198 [==============================] - 8s 7ms/sample - loss: 0.0046\n",
      "Epoch 14/100\n",
      "1198/1198 [==============================] - 8s 7ms/sample - loss: 0.0044\n",
      "Epoch 15/100\n",
      "1198/1198 [==============================] - 9s 7ms/sample - loss: 0.0041\n",
      "Epoch 16/100\n",
      "1198/1198 [==============================] - 8s 7ms/sample - loss: 0.0040\n",
      "Epoch 17/100\n",
      "1198/1198 [==============================] - 8s 7ms/sample - loss: 0.0039\n",
      "Epoch 18/100\n",
      "1198/1198 [==============================] - 8s 7ms/sample - loss: 0.0044\n",
      "Epoch 19/100\n",
      "1198/1198 [==============================] - 9s 7ms/sample - loss: 0.0033\n",
      "Epoch 20/100\n",
      "1198/1198 [==============================] - 8s 7ms/sample - loss: 0.0038\n",
      "Epoch 21/100\n",
      "1198/1198 [==============================] - 8s 7ms/sample - loss: 0.0032\n",
      "Epoch 22/100\n",
      "1198/1198 [==============================] - 8s 7ms/sample - loss: 0.0036\n",
      "Epoch 23/100\n",
      "1198/1198 [==============================] - 8s 7ms/sample - loss: 0.0033\n",
      "Epoch 24/100\n",
      "1198/1198 [==============================] - 8s 7ms/sample - loss: 0.0037\n",
      "Epoch 25/100\n",
      "1198/1198 [==============================] - 8s 7ms/sample - loss: 0.0033\n",
      "Epoch 26/100\n",
      "1198/1198 [==============================] - 8s 7ms/sample - loss: 0.0035\n",
      "Epoch 27/100\n",
      "1198/1198 [==============================] - 8s 7ms/sample - loss: 0.0032\n",
      "Epoch 28/100\n",
      "1198/1198 [==============================] - 8s 7ms/sample - loss: 0.0034\n",
      "Epoch 29/100\n",
      "1198/1198 [==============================] - 8s 7ms/sample - loss: 0.0026\n",
      "Epoch 30/100\n",
      "1198/1198 [==============================] - 8s 7ms/sample - loss: 0.0032\n",
      "Epoch 31/100\n",
      "1198/1198 [==============================] - 8s 7ms/sample - loss: 0.0031\n",
      "Epoch 32/100\n",
      "1198/1198 [==============================] - 8s 7ms/sample - loss: 0.0033\n",
      "Epoch 33/100\n",
      "1198/1198 [==============================] - 9s 7ms/sample - loss: 0.0031\n",
      "Epoch 34/100\n",
      "1198/1198 [==============================] - 8s 7ms/sample - loss: 0.0031\n",
      "Epoch 35/100\n",
      "1198/1198 [==============================] - 9s 7ms/sample - loss: 0.0030\n",
      "Epoch 36/100\n",
      "1198/1198 [==============================] - 9s 7ms/sample - loss: 0.0029\n",
      "Epoch 37/100\n",
      "1198/1198 [==============================] - 9s 7ms/sample - loss: 0.0027\n",
      "Epoch 38/100\n",
      "1198/1198 [==============================] - 9s 7ms/sample - loss: 0.0027\n",
      "Epoch 39/100\n",
      "1198/1198 [==============================] - 8s 7ms/sample - loss: 0.0028\n",
      "Epoch 40/100\n",
      "1198/1198 [==============================] - 9s 7ms/sample - loss: 0.0028\n",
      "Epoch 41/100\n",
      "1198/1198 [==============================] - 8s 7ms/sample - loss: 0.0026\n",
      "Epoch 42/100\n",
      "1198/1198 [==============================] - 9s 7ms/sample - loss: 0.0025\n",
      "Epoch 43/100\n",
      "1198/1198 [==============================] - 8s 7ms/sample - loss: 0.0026\n",
      "Epoch 44/100\n",
      "1198/1198 [==============================] - 9s 7ms/sample - loss: 0.0025\n",
      "Epoch 45/100\n",
      "1198/1198 [==============================] - 9s 7ms/sample - loss: 0.0024\n",
      "Epoch 46/100\n",
      "1198/1198 [==============================] - 9s 7ms/sample - loss: 0.0023\n",
      "Epoch 47/100\n",
      "1198/1198 [==============================] - 9s 7ms/sample - loss: 0.0024\n",
      "Epoch 48/100\n",
      "1198/1198 [==============================] - 9s 7ms/sample - loss: 0.0023\n",
      "Epoch 49/100\n",
      "1198/1198 [==============================] - 9s 7ms/sample - loss: 0.0024\n",
      "Epoch 50/100\n",
      "1198/1198 [==============================] - 9s 8ms/sample - loss: 0.0025\n",
      "Epoch 51/100\n",
      "1198/1198 [==============================] - 9s 7ms/sample - loss: 0.0024\n",
      "Epoch 52/100\n",
      "1198/1198 [==============================] - 9s 8ms/sample - loss: 0.0022\n",
      "Epoch 53/100\n",
      "1198/1198 [==============================] - 9s 7ms/sample - loss: 0.0025\n",
      "Epoch 54/100\n",
      "1198/1198 [==============================] - 9s 7ms/sample - loss: 0.0021\n",
      "Epoch 55/100\n",
      "1198/1198 [==============================] - 9s 7ms/sample - loss: 0.0022\n",
      "Epoch 56/100\n",
      "1198/1198 [==============================] - 9s 7ms/sample - loss: 0.0021\n",
      "Epoch 57/100\n",
      "1198/1198 [==============================] - 9s 7ms/sample - loss: 0.0022\n",
      "Epoch 58/100\n",
      "1198/1198 [==============================] - 8s 7ms/sample - loss: 0.0019\n",
      "Epoch 59/100\n",
      "1198/1198 [==============================] - 9s 7ms/sample - loss: 0.0020\n",
      "Epoch 60/100\n",
      "1198/1198 [==============================] - 9s 7ms/sample - loss: 0.0021\n",
      "Epoch 61/100\n",
      "1198/1198 [==============================] - 9s 7ms/sample - loss: 0.0019\n",
      "Epoch 62/100\n",
      "1198/1198 [==============================] - 9s 7ms/sample - loss: 0.0019\n",
      "Epoch 63/100\n",
      "1198/1198 [==============================] - 9s 7ms/sample - loss: 0.0022\n",
      "Epoch 64/100\n",
      "1198/1198 [==============================] - 9s 7ms/sample - loss: 0.0020\n",
      "Epoch 65/100\n",
      "1198/1198 [==============================] - 9s 7ms/sample - loss: 0.0018\n",
      "Epoch 66/100\n",
      "1198/1198 [==============================] - 9s 7ms/sample - loss: 0.0020\n",
      "Epoch 67/100\n",
      "1198/1198 [==============================] - 9s 7ms/sample - loss: 0.0019\n",
      "Epoch 68/100\n",
      "1198/1198 [==============================] - 9s 7ms/sample - loss: 0.0019\n",
      "Epoch 69/100\n",
      "1198/1198 [==============================] - 9s 7ms/sample - loss: 0.0022\n",
      "Epoch 70/100\n",
      "1198/1198 [==============================] - 9s 7ms/sample - loss: 0.0018\n",
      "Epoch 71/100\n",
      "1198/1198 [==============================] - 9s 7ms/sample - loss: 0.0020\n",
      "Epoch 72/100\n",
      "1198/1198 [==============================] - 9s 7ms/sample - loss: 0.0017\n",
      "Epoch 73/100\n",
      "1198/1198 [==============================] - 9s 7ms/sample - loss: 0.0020\n",
      "Epoch 74/100\n",
      "1198/1198 [==============================] - 9s 7ms/sample - loss: 0.0019\n",
      "Epoch 75/100\n",
      "1198/1198 [==============================] - 9s 8ms/sample - loss: 0.0018\n",
      "Epoch 76/100\n",
      "1198/1198 [==============================] - 9s 8ms/sample - loss: 0.0016\n",
      "Epoch 77/100\n",
      "1198/1198 [==============================] - 9s 8ms/sample - loss: 0.0017\n",
      "Epoch 78/100\n",
      "1198/1198 [==============================] - 9s 7ms/sample - loss: 0.0015\n",
      "Epoch 79/100\n",
      "1198/1198 [==============================] - 9s 7ms/sample - loss: 0.0019\n",
      "Epoch 80/100\n",
      "1198/1198 [==============================] - 9s 7ms/sample - loss: 0.0017\n",
      "Epoch 81/100\n",
      "1198/1198 [==============================] - 9s 7ms/sample - loss: 0.0015\n",
      "Epoch 82/100\n",
      "1198/1198 [==============================] - 9s 7ms/sample - loss: 0.0019\n",
      "Epoch 83/100\n",
      "1198/1198 [==============================] - 9s 8ms/sample - loss: 0.0019\n",
      "Epoch 84/100\n",
      "1198/1198 [==============================] - 10s 8ms/sample - loss: 0.0017\n",
      "Epoch 85/100\n",
      "1198/1198 [==============================] - 10s 8ms/sample - loss: 0.0015\n",
      "Epoch 86/100\n",
      "1198/1198 [==============================] - 9s 8ms/sample - loss: 0.0016\n",
      "Epoch 87/100\n",
      "1198/1198 [==============================] - 9s 7ms/sample - loss: 0.0017\n",
      "Epoch 88/100\n",
      "1198/1198 [==============================] - 9s 8ms/sample - loss: 0.0016\n",
      "Epoch 89/100\n",
      "1198/1198 [==============================] - 9s 7ms/sample - loss: 0.0018\n",
      "Epoch 90/100\n",
      "1198/1198 [==============================] - 9s 8ms/sample - loss: 0.0015\n",
      "Epoch 91/100\n",
      "1198/1198 [==============================] - 9s 8ms/sample - loss: 0.0014\n",
      "Epoch 92/100\n",
      "1198/1198 [==============================] - 9s 8ms/sample - loss: 0.0015\n",
      "Epoch 93/100\n",
      "1198/1198 [==============================] - 9s 8ms/sample - loss: 0.0016\n",
      "Epoch 94/100\n",
      "1198/1198 [==============================] - 9s 8ms/sample - loss: 0.0016\n"
     ]
    },
    {
     "name": "stdout",
     "output_type": "stream",
     "text": [
      "Epoch 95/100\n",
      "1198/1198 [==============================] - 9s 7ms/sample - loss: 0.0014\n",
      "Epoch 96/100\n",
      "1198/1198 [==============================] - 9s 7ms/sample - loss: 0.0015\n",
      "Epoch 97/100\n",
      "1198/1198 [==============================] - 9s 7ms/sample - loss: 0.0014\n",
      "Epoch 98/100\n",
      "1198/1198 [==============================] - 9s 7ms/sample - loss: 0.0014\n",
      "Epoch 99/100\n",
      "1198/1198 [==============================] - 9s 8ms/sample - loss: 0.0016\n",
      "Epoch 100/100\n",
      "1198/1198 [==============================] - 9s 8ms/sample - loss: 0.0014\n"
     ]
    },
    {
     "data": {
      "text/plain": [
       "<tensorflow.python.keras.callbacks.History at 0x15dad908>"
      ]
     },
     "execution_count": 11,
     "metadata": {},
     "output_type": "execute_result"
    }
   ],
   "source": [
    "# Fitting the RNN to the Training set\n",
    "regressor.fit(X_train, y_train, epochs = 100, batch_size = 32)"
   ]
  },
  {
   "cell_type": "code",
   "execution_count": 12,
   "metadata": {},
   "outputs": [
    {
     "name": "stdout",
     "output_type": "stream",
     "text": [
      "Model: \"sequential\"\n",
      "_________________________________________________________________\n",
      "Layer (type)                 Output Shape              Param #   \n",
      "=================================================================\n",
      "lstm (LSTM)                  (None, 60, 50)            10400     \n",
      "_________________________________________________________________\n",
      "dropout (Dropout)            (None, 60, 50)            0         \n",
      "_________________________________________________________________\n",
      "lstm_1 (LSTM)                (None, 60, 50)            20200     \n",
      "_________________________________________________________________\n",
      "dropout_1 (Dropout)          (None, 60, 50)            0         \n",
      "_________________________________________________________________\n",
      "lstm_2 (LSTM)                (None, 60, 50)            20200     \n",
      "_________________________________________________________________\n",
      "dropout_2 (Dropout)          (None, 60, 50)            0         \n",
      "_________________________________________________________________\n",
      "lstm_3 (LSTM)                (None, 50)                20200     \n",
      "_________________________________________________________________\n",
      "dropout_3 (Dropout)          (None, 50)                0         \n",
      "_________________________________________________________________\n",
      "dense (Dense)                (None, 1)                 51        \n",
      "=================================================================\n",
      "Total params: 71,051\n",
      "Trainable params: 71,051\n",
      "Non-trainable params: 0\n",
      "_________________________________________________________________\n"
     ]
    }
   ],
   "source": [
    "regressor.summary()"
   ]
  },
  {
   "cell_type": "markdown",
   "metadata": {},
   "source": [
    "### Task 3 - Making the predictions and visualising the results"
   ]
  },
  {
   "cell_type": "code",
   "execution_count": 13,
   "metadata": {},
   "outputs": [
    {
     "data": {
      "text/html": [
       "<div>\n",
       "<style scoped>\n",
       "    .dataframe tbody tr th:only-of-type {\n",
       "        vertical-align: middle;\n",
       "    }\n",
       "\n",
       "    .dataframe tbody tr th {\n",
       "        vertical-align: top;\n",
       "    }\n",
       "\n",
       "    .dataframe thead th {\n",
       "        text-align: right;\n",
       "    }\n",
       "</style>\n",
       "<table border=\"1\" class=\"dataframe\">\n",
       "  <thead>\n",
       "    <tr style=\"text-align: right;\">\n",
       "      <th></th>\n",
       "      <th>Date</th>\n",
       "      <th>Open</th>\n",
       "      <th>High</th>\n",
       "      <th>Low</th>\n",
       "      <th>Close</th>\n",
       "      <th>Volume</th>\n",
       "    </tr>\n",
       "  </thead>\n",
       "  <tbody>\n",
       "    <tr>\n",
       "      <th>0</th>\n",
       "      <td>1/3/2017</td>\n",
       "      <td>778.81</td>\n",
       "      <td>789.63</td>\n",
       "      <td>775.80</td>\n",
       "      <td>786.14</td>\n",
       "      <td>1,657,300</td>\n",
       "    </tr>\n",
       "    <tr>\n",
       "      <th>1</th>\n",
       "      <td>1/4/2017</td>\n",
       "      <td>788.36</td>\n",
       "      <td>791.34</td>\n",
       "      <td>783.16</td>\n",
       "      <td>786.90</td>\n",
       "      <td>1,073,000</td>\n",
       "    </tr>\n",
       "    <tr>\n",
       "      <th>2</th>\n",
       "      <td>1/5/2017</td>\n",
       "      <td>786.08</td>\n",
       "      <td>794.48</td>\n",
       "      <td>785.02</td>\n",
       "      <td>794.02</td>\n",
       "      <td>1,335,200</td>\n",
       "    </tr>\n",
       "    <tr>\n",
       "      <th>3</th>\n",
       "      <td>1/6/2017</td>\n",
       "      <td>795.26</td>\n",
       "      <td>807.90</td>\n",
       "      <td>792.20</td>\n",
       "      <td>806.15</td>\n",
       "      <td>1,640,200</td>\n",
       "    </tr>\n",
       "    <tr>\n",
       "      <th>4</th>\n",
       "      <td>1/9/2017</td>\n",
       "      <td>806.40</td>\n",
       "      <td>809.97</td>\n",
       "      <td>802.83</td>\n",
       "      <td>806.65</td>\n",
       "      <td>1,272,400</td>\n",
       "    </tr>\n",
       "  </tbody>\n",
       "</table>\n",
       "</div>"
      ],
      "text/plain": [
       "       Date    Open    High     Low   Close     Volume\n",
       "0  1/3/2017  778.81  789.63  775.80  786.14  1,657,300\n",
       "1  1/4/2017  788.36  791.34  783.16  786.90  1,073,000\n",
       "2  1/5/2017  786.08  794.48  785.02  794.02  1,335,200\n",
       "3  1/6/2017  795.26  807.90  792.20  806.15  1,640,200\n",
       "4  1/9/2017  806.40  809.97  802.83  806.65  1,272,400"
      ]
     },
     "execution_count": 13,
     "metadata": {},
     "output_type": "execute_result"
    }
   ],
   "source": [
    "# Getting the real stock price of 2017\n",
    "dataset_test = pd.read_csv('Google_Stock_Price_Test.csv')\n",
    "dataset_test.head()"
   ]
  },
  {
   "cell_type": "code",
   "execution_count": 14,
   "metadata": {},
   "outputs": [
    {
     "data": {
      "text/plain": [
       "array([[778.81],\n",
       "       [788.36],\n",
       "       [786.08],\n",
       "       [795.26],\n",
       "       [806.4 ],\n",
       "       [807.86],\n",
       "       [805.  ],\n",
       "       [807.14],\n",
       "       [807.48],\n",
       "       [807.08],\n",
       "       [805.81],\n",
       "       [805.12],\n",
       "       [806.91],\n",
       "       [807.25],\n",
       "       [822.3 ],\n",
       "       [829.62],\n",
       "       [837.81],\n",
       "       [834.71],\n",
       "       [814.66],\n",
       "       [796.86]])"
      ]
     },
     "execution_count": 14,
     "metadata": {},
     "output_type": "execute_result"
    }
   ],
   "source": [
    "# pick only open price of stock\n",
    "real_stock_price = dataset_test.iloc[:, 1:2].values\n",
    "real_stock_price"
   ]
  },
  {
   "cell_type": "code",
   "execution_count": 15,
   "metadata": {},
   "outputs": [],
   "source": [
    "# Append previous 60 days from training set to testing set\n",
    "dataset_total = pd.concat((dataset_train['Open'], dataset_test['Open']), axis = 0)\n",
    "inputs = dataset_total[len(dataset_total) - len(dataset_test) - 60:].values\n",
    "inputs = inputs.reshape(-1,1)\n",
    "inputs = sc.transform(inputs)"
   ]
  },
  {
   "cell_type": "code",
   "execution_count": 16,
   "metadata": {},
   "outputs": [],
   "source": [
    "# Creating a data structure with 60 timesteps and 1 output\n",
    "X_test = []\n",
    "for i in range(60, 80):\n",
    "    X_test.append(inputs[i-60:i, 0])\n",
    "X_test = np.array(X_test)\n",
    "X_test = np.reshape(X_test, (X_test.shape[0], X_test.shape[1], 1))"
   ]
  },
  {
   "cell_type": "code",
   "execution_count": 17,
   "metadata": {},
   "outputs": [
    {
     "data": {
      "text/plain": [
       "array([[0.911008  ],\n",
       "       [0.905983  ],\n",
       "       [0.9063232 ],\n",
       "       [0.90867627],\n",
       "       [0.91441804],\n",
       "       [0.9246742 ],\n",
       "       [0.9340681 ],\n",
       "       [0.93789333],\n",
       "       [0.9385597 ],\n",
       "       [0.9382902 ],\n",
       "       [0.9379998 ],\n",
       "       [0.93760604],\n",
       "       [0.93728834],\n",
       "       [0.9382044 ],\n",
       "       [0.9398726 ],\n",
       "       [0.948018  ],\n",
       "       [0.96016407],\n",
       "       [0.9730901 ],\n",
       "       [0.9800752 ],\n",
       "       [0.97287226]], dtype=float32)"
      ]
     },
     "execution_count": 17,
     "metadata": {},
     "output_type": "execute_result"
    }
   ],
   "source": [
    "# Getting the predicted stock price of 2017\n",
    "predicted_stock_price = regressor.predict(X_test)\n",
    "predicted_stock_price"
   ]
  },
  {
   "cell_type": "code",
   "execution_count": 18,
   "metadata": {},
   "outputs": [
    {
     "data": {
      "text/plain": [
       "array([[768.84143],\n",
       "       [766.1402 ],\n",
       "       [766.32306],\n",
       "       [767.588  ],\n",
       "       [770.67456],\n",
       "       [776.18787],\n",
       "       [781.2376 ],\n",
       "       [783.29395],\n",
       "       [783.65216],\n",
       "       [783.50726],\n",
       "       [783.3512 ],\n",
       "       [783.1395 ],\n",
       "       [782.96875],\n",
       "       [783.4611 ],\n",
       "       [784.3579 ],\n",
       "       [788.7366 ],\n",
       "       [795.26575],\n",
       "       [802.21436],\n",
       "       [805.96924],\n",
       "       [802.09717]], dtype=float32)"
      ]
     },
     "execution_count": 18,
     "metadata": {},
     "output_type": "execute_result"
    }
   ],
   "source": [
    "predicted_stock_price = sc.inverse_transform(predicted_stock_price)\n",
    "predicted_stock_price"
   ]
  },
  {
   "cell_type": "code",
   "execution_count": 19,
   "metadata": {},
   "outputs": [
    {
     "data": {
      "image/png": "[encoded data removed]",
      "text/plain": [
       "<Figure size 432x288 with 1 Axes>"
      ]
     },
     "metadata": {
      "needs_background": "light"
     },
     "output_type": "display_data"
    }
   ],
   "source": [
    "# Visualising the results\n",
    "plt.plot(real_stock_price, color = 'red', label = 'Real Google Stock Price')\n",
    "plt.plot(predicted_stock_price, color = 'blue', label = 'Predicted Google Stock Price')\n",
    "plt.title('Google Stock Price Prediction')\n",
    "plt.xlabel('Time')\n",
    "plt.ylabel('Google Stock Price')\n",
    "plt.legend()\n",
    "plt.show()"
   ]
  }
 ],
 "metadata": {
  "kernelspec": {
   "display_name": "Python 3",
   "language": "python",
   "name": "python3"
  },
  "language_info": {
   "codemirror_mode": {
    "name": "ipython",
    "version": 3
   },
   "file_extension": ".py",
   "mimetype": "text/x-python",
   "name": "python",
   "nbconvert_exporter": "python",
   "pygments_lexer": "ipython3",
   "version": "3.6.9"
  }
 },
 "nbformat": 4,
 "nbformat_minor": 2
}
